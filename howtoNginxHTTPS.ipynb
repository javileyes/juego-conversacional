{
 "cells": [
  {
   "cell_type": "markdown",
   "metadata": {},
   "source": [
    "https://www.youtube.com/watch?v=jrR_WfgmWEw"
   ]
  },
  {
   "cell_type": "code",
   "execution_count": 1,
   "metadata": {},
   "outputs": [
    {
     "name": "stdout",
     "output_type": "stream",
     "text": [
      "Writing nginx.conf\n"
     ]
    }
   ],
   "source": [
    "%%writefile nginx.conf\n",
    "events {\n",
    "    worker_connections 1024;\n",
    "}\n",
    "\n",
    "http {\n",
    "    server {\n",
    "        listen 80;\n",
    "        server_name javiergimenez.es www.javiergimenez.es;\n",
    "        \n",
    "        location /.well-known/acme-challenge/ {\n",
    "            root /letsencrypt/;\n",
    "        }\n",
    "\n",
    "        location / {\n",
    "            root /usr/share/nginx/html;\n",
    "            index index.html index.htm;\n",
    "        }\n",
    "    }\n",
    "\n",
    "\n",
    "\n",
    "    # server {\n",
    "    #   listen 443 ssl default_server;\n",
    "    #   listen [::]:443 ssl default_server ;\n",
    "    #   server_name javiergimenez.es;\n",
    "    #   ssl_certificate /etc/letsencrypt/live/javiergimenez.es/fullchain.pem;\n",
    "    #   ssl_certificate_key /etc/letsencrypt/live/javiergimenez.es/privkey.pem;\n",
    "    #   root /usr/share/nginx/html/;\n",
    "\n",
    "    #   location / {\n",
    "    #     gzip off;\n",
    "    #     root /usr/share/nginx/html/;\n",
    "    #     index  index.html;\n",
    "    #   }\n",
    "\n",
    "    # }\n",
    "\n",
    "\n",
    "}"
   ]
  },
  {
   "cell_type": "code",
   "execution_count": 2,
   "metadata": {},
   "outputs": [],
   "source": [
    "%%bash\n",
    "mkdir certs\n",
    "mkdir html"
   ]
  },
  {
   "cell_type": "markdown",
   "metadata": {},
   "source": [
    "```bash\n",
    "mkdir certs\n",
    "mkdir html"
   ]
  },
  {
   "cell_type": "code",
   "execution_count": 3,
   "metadata": {},
   "outputs": [
    {
     "name": "stdout",
     "output_type": "stream",
     "text": [
      "Writing ./html/index.html\n"
     ]
    }
   ],
   "source": [
    "%%writefile ./html/index.html\n",
    "<html>\n",
    "<head>\n",
    "    <title>Test</title>\n",
    "</head>\n",
    "<body>\n",
    "    <h1>Test</h1>\n",
    "    <p>Test</p>\n",
    "</html>"
   ]
  },
  {
   "cell_type": "markdown",
   "metadata": {},
   "source": [
    "```bash\n",
    "docker run -d --name nginx -v ${PWD}/nginx.conf:/etc/nginx/nginx.conf -v ${PWD}:/letsencrypt -v ${PWD}/certs:/etc/letsencrypt -v ${PWD}/html:/usr/share/nginx/html -p 80:80 -p 443:443 nginx"
   ]
  },
  {
   "cell_type": "code",
   "execution_count": 4,
   "metadata": {},
   "outputs": [
    {
     "name": "stdout",
     "output_type": "stream",
     "text": [
      "83.138.44.54\n"
     ]
    }
   ],
   "source": [
    "!curl ifconfig.co"
   ]
  },
  {
   "cell_type": "markdown",
   "metadata": {},
   "source": [
    "```bash\n",
    "curl ifconfig.co"
   ]
  },
  {
   "cell_type": "markdown",
   "metadata": {},
   "source": [
    "<h2> Una vez que funciona el servidor web (sin https) se procede a usar certbot para obtener un certificado SSL.</H2>\n"
   ]
  },
  {
   "cell_type": "markdown",
   "metadata": {},
   "source": [
    "```bash\n",
    "## este docker su punto de ejecución es el comando \"cerbot\" hay que añadir subcomando y opciones si necesarias\n",
    "# docker run -it --rm --name certbot -v ${PWD}:/letsencrypt -v ${PWD}/certs:/etc/letsencrypt certbot/certbot [subcomando][opciones]\n",
    "\n",
    "docker run -it --rm --name certbot -v ${PWD}:/letsencrypt -v ${PWD}/certs:/etc/letsencrypt certbot/certbot certonly --webroot"
   ]
  },
  {
   "cell_type": "markdown",
   "metadata": {},
   "source": [
    "<h2>Ahora antes de las pruebas automáticas de verificación, cerbot te pide el dominio \"javiergimenez.es\", el correo (si se quiere), y el directorio donde se realizaran las pruebas automáticas \"/letsencrypt\"</h2>"
   ]
  },
  {
   "cell_type": "markdown",
   "metadata": {},
   "source": [
    "Status: Downloaded newer image for certbot/certbot:latest\n",
    "Saving debug log to /var/log/letsencrypt/letsencrypt.log\n",
    "Enter email address (used for urgent renewal and security notices)\n",
    " (Enter 'c' to cancel): javiergimenezmoya@gmail.com\n",
    "\n",
    "- - - - - - - - - - - - - - - - - - - - - - - - - - - - - - - - - - - - - - - -\n",
    "Please read the Terms of Service at\n",
    "https://letsencrypt.org/documents/LE-SA-v1.4-April-3-2024.pdf. You must agree in\n",
    "order to register with the ACME server. Do you agree?\n",
    "- - - - - - - - - - - - - - - - - - - - - - - - - - - - - - - - - - - - - - - -\n",
    "(Y)es/(N)o: Y\n",
    "\n",
    "- - - - - - - - - - - - - - - - - - - - - - - - - - - - - - - - - - - - - - - -\n",
    "Would you be willing, once your first certificate is successfully issued, to\n",
    "share your email address with the Electronic Frontier Foundation, a founding\n",
    "partner of the Let's Encrypt project and the non-profit organization that\n",
    "develops Certbot? We'd like to send you email about our work encrypting the web,\n",
    "EFF news, campaigns, and ways to support digital freedom.\n",
    "- - - - - - - - - - - - - - - - - - - - - - - - - - - - - - - - - - - - - - - -\n",
    "(Y)es/(N)o: Y\n",
    "Account registered.\n",
    "Please enter the domain name(s) you would like on your certificate (comma and/or\n",
    "space separated) (Enter 'c' to cancel): ia.javiergimenez.es\n",
    "Requesting a certificate for ia.javiergimenez.es\n",
    "Input the webroot for ia.javiergimenez.es: (Enter 'c' to cancel): /letsencrypt     \n",
    "\n",
    "Successfully received certificate.\n",
    "Certificate is saved at: /etc/letsencrypt/live/ia.javiergimenez.es/fullchain.pem\n",
    "Key is saved at:         /etc/letsencrypt/live/ia.javiergimenez.es/privkey.pem\n",
    "This certificate expires on 2024-08-04.\n",
    "These files will be updated when the certificate renews.\n",
    "\n",
    "NEXT STEPS:\n",
    "- The certificate will need to be renewed before it expires. Certbot can automatically renew the certificate in the background, but you may need to take steps to enable that functionality. See https://certbot.org/renewal-setup for instructions.\n",
    "We were unable to subscribe you the EFF mailing list because your e-mail address appears to be invalid. You can try again later by visiting https://act.eff.org.\n",
    "\n",
    "- - - - - - - - - - - - - - - - - - - - - - - - - - - - - - - - - - - - - - - -\n",
    "If you like Certbot, please consider supporting our work by:\n",
    " * Donating to ISRG / Let's Encrypt:   https://letsencrypt.org/donate\n",
    " * Donating to EFF:                    https://eff.org/donate-le\n",
    "- - - - - - - - - - - - - - - - - - - - - - - - - - - - - - - - - - - - - - - -"
   ]
  },
  {
   "cell_type": "markdown",
   "metadata": {},
   "source": [
    "<h2>Una vez que ya tenemos el certificado SSL ya podemos incorporar la configuración de https en el archivo de configuración de nginx.</H2>"
   ]
  },
  {
   "cell_type": "code",
   "execution_count": 5,
   "metadata": {},
   "outputs": [
    {
     "name": "stdout",
     "output_type": "stream",
     "text": [
      "Overwriting nginx.conf\n"
     ]
    }
   ],
   "source": [
    "%%writefile nginx.conf\n",
    "events {\n",
    "    worker_connections 1024;\n",
    "}\n",
    "\n",
    "http {\n",
    "    server {\n",
    "        listen 80;\n",
    "        server_name javiergimenez.es www.ia.javiergimenez.es;\n",
    "        \n",
    "        location /.well-known/acme-challenge/ {\n",
    "            root /letsencrypt/;\n",
    "        }\n",
    "\n",
    "        location / {\n",
    "            root /usr/share/nginx/html;\n",
    "            index index.html index.htm;\n",
    "        }\n",
    "    }\n",
    "\n",
    "\n",
    "\n",
    "    server {\n",
    "      listen 443 ssl default_server;\n",
    "      listen [::]:443 ssl default_server ;\n",
    "      server_name javiergimenez.es;\n",
    "      ssl_certificate /etc/letsencrypt/live/javiergimenez.es/fullchain.pem;\n",
    "      ssl_certificate_key /etc/letsencrypt/live/javiergimenez.es/privkey.pem;\n",
    "      root /usr/share/nginx/html/;\n",
    "\n",
    "      location / {\n",
    "        gzip off;\n",
    "        root /usr/share/nginx/html/;\n",
    "        index  index.html;\n",
    "      }\n",
    "\n",
    "    }\n",
    "\n",
    "\n",
    "}"
   ]
  },
  {
   "cell_type": "markdown",
   "metadata": {},
   "source": [
    "```bash\n",
    "docker container restart nginx"
   ]
  },
  {
   "cell_type": "markdown",
   "metadata": {},
   "source": [
    "# renovaciones"
   ]
  },
  {
   "cell_type": "markdown",
   "metadata": {},
   "source": [
    "Simulacro de renovación"
   ]
  },
  {
   "cell_type": "markdown",
   "metadata": {},
   "source": [
    "docker run -it --rm --name certbot -v ${PWD}:/letsencrypt -v ${PWD}/certs:/etc/letsencrypt certbot/certbot renew --dry-run"
   ]
  },
  {
   "cell_type": "markdown",
   "metadata": {},
   "source": [
    "Renovación"
   ]
  },
  {
   "cell_type": "markdown",
   "metadata": {},
   "source": [
    "```BASH\n",
    "docker run -it --rm --name certbot -v ${PWD}:/letsencrypt -v ${PWD}/certs:/etc/letsencrypt certbot/certbot renew "
   ]
  },
  {
   "cell_type": "markdown",
   "metadata": {},
   "source": [
    "Los directorios deben de tener permisos al menos de lectura y ejecución"
   ]
  },
  {
   "cell_type": "markdown",
   "metadata": {},
   "source": [
    "```bash\n",
    "chmod 777 ./certs/live\n",
    "chmod 777 ./certs/accounts\n",
    "chmod 777 ./certs/archive"
   ]
  },
  {
   "cell_type": "markdown",
   "metadata": {},
   "source": [
    "<h1>\n",
    "No olvidar los portforwarding en el router para puerto 80 y 443\n",
    "\n",
    "Tampoco olvidar abrirlos en el cortafuegos\n",
    "</h1>"
   ]
  },
  {
   "cell_type": "markdown",
   "metadata": {},
   "source": [
    "# Creación de un servidor flask con certificado SSL\n",
    "https://chat.openai.com/share/b4add14f-7e2c-40cf-a15c-7e7c27bd1393"
   ]
  },
  {
   "cell_type": "code",
   "execution_count": null,
   "metadata": {},
   "outputs": [
    {
     "name": "stdout",
     "output_type": "stream",
     "text": [
      "Overwriting nginx.conf\n"
     ]
    }
   ],
   "source": [
    "%%writefile nginx.conf\n",
    "\n",
    "events {\n",
    "    worker_connections 1024;\n",
    "}\n",
    "\n",
    "http {\n",
    "    server {\n",
    "        listen 80;\n",
    "        server_name javiergimenez.es www.javiergimenez.es;\n",
    "\n",
    "        location /.well-known/acme-challenge/ {\n",
    "            root /letsencrypt/;\n",
    "        }\n",
    "\n",
    "        location / {\n",
    "            return 301 https://$server_name$request_uri;  # Redirigir todo el tráfico HTTP a HTTPS\n",
    "        }\n",
    "    }\n",
    "\n",
    "    server {\n",
    "        listen 443 ssl default_server;\n",
    "        listen [::]:443 ssl default_server;\n",
    "        server_name javiergimenez.es;\n",
    "        ssl_certificate /etc/letsencrypt/live/javiergimenez.es/fullchain.pem;\n",
    "        ssl_certificate_key /etc/letsencrypt/live/javiergimenez.es/privkey.pem;\n",
    "        root /usr/share/nginx/html/;\n",
    "\n",
    "        location / {\n",
    "            gzip off;\n",
    "            root /usr/share/nginx/html/;\n",
    "            index index.html;\n",
    "        }\n",
    "\n",
    "        location /api/ {\n",
    "            # proxy_pass http://ia.javiergimenez.es:5500;\n",
    "            proxy_pass http://ia.javiergimenez:5500/api/;  # Redirigir las solicitudes /api a Flask\n",
    "            proxy_http_version 1.1;\n",
    "            proxy_set_header Upgrade $http_upgrade;\n",
    "            proxy_set_header Connection \"upgrade\";\n",
    "            proxy_set_header Host $host;\n",
    "            proxy_set_header X-Real-IP $remote_addr;\n",
    "            proxy_set_header X-Forwarded-For $proxy_add_x_forwarded_for;\n",
    "            proxy_set_header X-Forwarded-Proto $scheme;       \n",
    "            add_header 'Access-Control-Allow-Origin' '*';  # Permite todas las solicitudes CORS\n",
    "            add_header 'Access-Control-Allow-Methods' 'GET, POST, OPTIONS, PUT, DELETE';  # Métodos permitidos\n",
    "   \n",
    "        }\n",
    "    }\n",
    "}\n"
   ]
  },
  {
   "cell_type": "code",
   "execution_count": null,
   "metadata": {},
   "outputs": [],
   "source": [
    "# %%writefile serverflask.py\n",
    "# from flask import Flask\n",
    "# app = Flask(__name__)\n",
    "\n",
    "# @app.route('/api/hola')\n",
    "# def hola():\n",
    "#     return \"Hola Mundo!\"\n",
    "\n",
    "# if __name__ == \"__main__\":\n",
    "#     app.run(host='0.0.0.0', port=5500)\n"
   ]
  },
  {
   "cell_type": "markdown",
   "metadata": {},
   "source": [
    "```bash\n",
    "#crear el proceso de servidor web flask\n",
    "python serverflask.py\n",
    "\n",
    "```bash\n",
    "#para ver PID del proceso por si lo queremos luego matar\n",
    "pgrep -f \"python serverflask.py\"\n",
    "\n",
    "```bash\n",
    "#para ver el proceso en el contexto de red y puerto de escucha\n",
    "ss -tulpn | grep 5500\n"
   ]
  },
  {
   "cell_type": "code",
   "execution_count": 8,
   "metadata": {},
   "outputs": [
    {
     "name": "stdout",
     "output_type": "stream",
     "text": [
      "Writing ./html/cliente.html\n"
     ]
    }
   ],
   "source": [
    "%%writefile ./html/cliente.html\n",
    "<!DOCTYPE html>\n",
    "<html lang=\"en\">\n",
    "<head>\n",
    "    <meta charset=\"UTF-8\">\n",
    "    <meta name=\"viewport\" content=\"width=device-width, initial-scale=1.0\">\n",
    "    <title>Hola Mundo App</title>\n",
    "    <script src=\"https://ajax.googleapis.com/ajax/libs/jquery/3.5.1/jquery.min.js\"></script>\n",
    "    <script>\n",
    "    $(document).ready(function(){\n",
    "        $(\"#btnHola\").click(function(){\n",
    "            $.ajax({\n",
    "                url: '/api/hola',\n",
    "                type: 'GET',\n",
    "                success: function(response) {\n",
    "                    alert(response);\n",
    "                },\n",
    "                error: function(error) {\n",
    "                    console.log(error);\n",
    "                }\n",
    "            });\n",
    "        });\n",
    "    });\n",
    "    </script>\n",
    "</head>\n",
    "<body>\n",
    "    <h1>Hola Mundo App</h1>\n",
    "    <button id=\"btnHola\">Di Hola</button>\n",
    "</body>\n",
    "</html>\n"
   ]
  }
 ],
 "metadata": {
  "kernelspec": {
   "display_name": "Python 3",
   "language": "python",
   "name": "python3"
  },
  "language_info": {
   "codemirror_mode": {
    "name": "ipython",
    "version": 3
   },
   "file_extension": ".py",
   "mimetype": "text/x-python",
   "name": "python",
   "nbconvert_exporter": "python",
   "pygments_lexer": "ipython3",
   "version": "3.10.13"
  }
 },
 "nbformat": 4,
 "nbformat_minor": 2
}
